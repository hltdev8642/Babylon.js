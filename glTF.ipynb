{
  "nbformat": 4,
  "nbformat_minor": 0,
  "metadata": {
    "colab": {
      "name": "glTF.ipynb",
      "provenance": [],
      "include_colab_link": true
    },
    "kernelspec": {
      "name": "python3",
      "display_name": "Python 3"
    }
  },
  "cells": [
    {
      "cell_type": "markdown",
      "metadata": {
        "id": "view-in-github",
        "colab_type": "text"
      },
      "source": [
        "<a href=\"https://colab.research.google.com/github/hltdev8642/Babylon.js/blob/master/glTF.ipynb\" target=\"_parent\"><img src=\"https://colab.research.google.com/assets/colab-badge.svg\" alt=\"Open In Colab\"/></a>"
      ]
    },
    {
      "cell_type": "code",
      "metadata": {
        "id": "api4JZ5nEKmc",
        "colab_type": "code",
        "colab": {}
      },
      "source": [
        "import numpy as np\n",
        "import base64"
      ],
      "execution_count": 0,
      "outputs": []
    },
    {
      "cell_type": "code",
      "metadata": {
        "id": "jYJNbOBbB4JE",
        "colab_type": "code",
        "colab": {}
      },
      "source": [
        "VERTICES = np.array([0.,0.,0.,    0.,1.,0.,    1.,0.,0.], dtype=np.float32)\n",
        "INDICES = np.array([0, 1, 2], dtype=np.ushort)\n",
        "\n",
        "HOWMANY = 3\n",
        "MAX_X = 1\n",
        "MAX_Y = 1\n",
        "MAX_Z = 0\n",
        "MIN_X = 0\n",
        "MIN_Y = 0\n",
        "MIN_Z = 0\n",
        "MAX = 2\n",
        "MIN = 0\n",
        "\n",
        "HOWMANYBYTES_V = VERTICES.nbytes\n",
        "HOWMANYBYTES_I = INDICES.nbytes\n",
        "\n",
        "B64_VERTICES = base64.b64encode(VERTICES)\n",
        "B64_INDICES = base64.b64encode(INDICES)\n"
      ],
      "execution_count": 0,
      "outputs": []
    },
    {
      "cell_type": "code",
      "metadata": {
        "id": "GoUiqH6hCIHF",
        "colab_type": "code",
        "colab": {}
      },
      "source": [
        "gltf = {\n",
        "    \"asset\": {\n",
        "        \"version\": \"2.0\",\n",
        "        \"generator\": \"CS460 Magic Fingers\"\n",
        "    },\n",
        "\n",
        "  \"accessors\": [\n",
        "        {\n",
        "            \"bufferView\": 0,\n",
        "            \"byteOffset\": 0,\n",
        "            \"componentType\": 5126,\n",
        "            \"count\": HOWMANY,\n",
        "            \"type\": \"VEC3\",\n",
        "            \"max\": [MAX_X, MAX_Y, MAX_Z],\n",
        "            \"min\": [MIN_X, MIN_Y, MIN_Z]\n",
        "        },\n",
        "        {\n",
        "            \"bufferView\": 1,\n",
        "            \"byteOffset\": 0,\n",
        "            \"componentType\": 5123,\n",
        "            \"count\": HOWMANY,\n",
        "            \"type\": \"SCALAR\",\n",
        "            \"max\": [MAX],\n",
        "            \"min\": [MIN]\n",
        "        }\n",
        "    ], \n",
        "\n",
        "    \"bufferViews\": [\n",
        "        {\n",
        "            \"buffer\": 0,\n",
        "            \"byteOffset\": 0,\n",
        "            \"byteLength\": HOWMANYBYTES_V,\n",
        "            \"target\": 34962\n",
        "        },\n",
        "        {\n",
        "            \"buffer\": 1,\n",
        "            \"byteOffset\": 0,\n",
        "            \"byteLength\": HOWMANYBYTES_I,\n",
        "            \"target\": 34963\n",
        "        }\n",
        "    ],\n",
        "    \n",
        "    \"buffers\": [\n",
        "        {\n",
        "            \"uri\": \"data:application/octet-stream;base64,\"+str(B64_VERTICES, 'utf-8'),\n",
        "            \"byteLength\": HOWMANYBYTES_V\n",
        "        },\n",
        "        {\n",
        "            \"uri\": \"data:application/octet-stream;base64,\"+str(B64_INDICES, 'utf-8'),\n",
        "            \"byteLength\": HOWMANYBYTES_I\n",
        "        }\n",
        "    ],\n",
        "  \n",
        "    \"meshes\": [\n",
        "        {\n",
        "            \"primitives\": [{\n",
        "                 \"mode\": 4,\n",
        "                 \"attributes\": {\n",
        "                     \"POSITION\": 0\n",
        "                 },\n",
        "                 \"indices\": 1\n",
        "            }]\n",
        "        }\n",
        "    ],\n",
        "\n",
        "    \"nodes\": [\n",
        "        {\n",
        "            \"mesh\": 0\n",
        "        }\n",
        "    ],\n",
        "\n",
        "    \"scenes\": [\n",
        "        {\n",
        "            \"nodes\": [\n",
        "                0\n",
        "            ]\n",
        "        }\n",
        "    ],\n",
        "\n",
        "    \"scene\": 0\n",
        "}"
      ],
      "execution_count": 0,
      "outputs": []
    },
    {
      "cell_type": "code",
      "metadata": {
        "id": "eAlqXO7ACp9m",
        "colab_type": "code",
        "outputId": "95bec482-8ddb-40ec-b173-c1708dd209d4",
        "colab": {
          "base_uri": "https://localhost:8080/",
          "height": 54
        }
      },
      "source": [
        "str(gltf).replace(\"'\", '\"') # we need double quotes instead of single quotes"
      ],
      "execution_count": 0,
      "outputs": [
        {
          "output_type": "execute_result",
          "data": {
            "text/plain": [
              "'{\"asset\": {\"version\": \"2.0\", \"generator\": \"CS460 Magic Fingers\"}, \"accessors\": [{\"bufferView\": 0, \"byteOffset\": 0, \"componentType\": 5126, \"count\": 3, \"type\": \"VEC3\", \"max\": [1, 1, 0], \"min\": [0, 0, 0]}, {\"bufferView\": 1, \"byteOffset\": 0, \"componentType\": 5123, \"count\": 3, \"type\": \"SCALAR\", \"max\": [2], \"min\": [0]}], \"bufferViews\": [{\"buffer\": 0, \"byteOffset\": 0, \"byteLength\": 36, \"target\": 34962}, {\"buffer\": 1, \"byteOffset\": 0, \"byteLength\": 6, \"target\": 34963}], \"buffers\": [{\"uri\": \"data:application/octet-stream;base64,AAAAAAAAAAAAAAAAAAAAAAAAgD8AAAAAAACAPwAAAAAAAAAA\", \"byteLength\": 36}, {\"uri\": \"data:application/octet-stream;base64,AAABAAIA\", \"byteLength\": 6}], \"meshes\": [{\"primitives\": [{\"mode\": 4, \"attributes\": {\"POSITION\": 0}, \"indices\": 1}]}], \"nodes\": [{\"mesh\": 0}], \"scenes\": [{\"nodes\": [0]}], \"scene\": 0}'"
            ]
          },
          "metadata": {
            "tags": []
          },
          "execution_count": 5
        }
      ]
    },
    {
      "cell_type": "code",
      "metadata": {
        "id": "PPXfK6iGGRiC",
        "colab_type": "code",
        "colab": {}
      },
      "source": [
        ""
      ],
      "execution_count": 0,
      "outputs": []
    }
  ]
}